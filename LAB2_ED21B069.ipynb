{
 "cells": [
  {
   "attachments": {},
   "cell_type": "markdown",
   "metadata": {},
   "source": [
    "LAB 2 Shobhith Vadlamudi ED21B069"
   ]
  },
  {
   "attachments": {},
   "cell_type": "markdown",
   "metadata": {},
   "source": [
    "Q.1.a."
   ]
  },
  {
   "cell_type": "code",
   "execution_count": 79,
   "metadata": {},
   "outputs": [
    {
     "name": "stdout",
     "output_type": "stream",
     "text": [
      "42\n",
      "84\n",
      "126\n",
      "168\n",
      "210\n",
      "252\n",
      "294\n",
      "336\n",
      "378\n",
      "420\n",
      "462\n"
     ]
    }
   ],
   "source": [
    "for i in range(1,501):\n",
    "  if i%6 !=0 or i%7 !=0:\n",
    "    continue\n",
    "  else:\n",
    "    print(i) "
   ]
  },
  {
   "attachments": {},
   "cell_type": "markdown",
   "metadata": {},
   "source": [
    "Q.1.b."
   ]
  },
  {
   "cell_type": "code",
   "execution_count": 80,
   "metadata": {},
   "outputs": [
    {
     "name": "stdout",
     "output_type": "stream",
     "text": [
      "42\n",
      "84\n",
      "126\n",
      "168\n",
      "210\n",
      "252\n",
      "294\n",
      "336\n",
      "378\n",
      "420\n",
      "462\n"
     ]
    }
   ],
   "source": [
    "i=1\n",
    "while i<501:\n",
    "  if i%6==0 and i%7==0:\n",
    "    print(i)\n",
    "  else:\n",
    "    pass\n",
    "  i+=1\n",
    "\n"
   ]
  },
  {
   "attachments": {},
   "cell_type": "markdown",
   "metadata": {},
   "source": [
    "Q.2"
   ]
  },
  {
   "cell_type": "code",
   "execution_count": 81,
   "metadata": {},
   "outputs": [
    {
     "name": "stdout",
     "output_type": "stream",
     "text": [
      "odd sum is  9\n",
      "even sum is  14\n"
     ]
    }
   ],
   "source": [
    "even_sum=0\n",
    "odd_sum=0\n",
    "num=1111122221111222\n",
    "while num>0:\n",
    "  digit=num%10\n",
    "  num=num//10\n",
    "  if digit%2==0:\n",
    "    even_sum=even_sum+digit\n",
    "  else:\n",
    "    odd_sum=odd_sum+digit\n",
    "\n",
    "print(\"odd sum is \",odd_sum)\n",
    "print(\"even sum is \",even_sum)\n",
    "\n"
   ]
  },
  {
   "attachments": {},
   "cell_type": "markdown",
   "metadata": {},
   "source": [
    "Q.3.\n"
   ]
  },
  {
   "attachments": {},
   "cell_type": "markdown",
   "metadata": {},
   "source": [
    "3 conditional expressions are if,elif and else\n",
    "If the condition given after the if statement is true then the expression written in the next line will be executed\n",
    "If the condition after the if statement is false then the expression written after the else statement will be executed. To check multiple conditions we use the elif statement."
   ]
  },
  {
   "cell_type": "code",
   "execution_count": 82,
   "metadata": {},
   "outputs": [
    {
     "name": "stdout",
     "output_type": "stream",
     "text": [
      "max=  34\n",
      "min=  1\n",
      "using max  function max=  34\n",
      "using max  function min=  1\n"
     ]
    }
   ],
   "source": [
    "\n",
    "lst=[1,2,5,6,7,4,22,34]\n",
    "maxi=lst[0]\n",
    "mini=lst[0]\n",
    "for x in lst:\n",
    "  if x>=maxi:\n",
    "    maxi=x\n",
    "  if x<=mini:\n",
    "    mini=x\n",
    "print(\"max= \",maxi)\n",
    "print(\"min= \",mini)\n",
    "print(\"using max  function max= \",max(lst))\n",
    "print(\"using max  function min= \",min(lst))"
   ]
  },
  {
   "attachments": {},
   "cell_type": "markdown",
   "metadata": {},
   "source": [
    "Q.4."
   ]
  },
  {
   "cell_type": "code",
   "execution_count": 83,
   "metadata": {},
   "outputs": [
    {
     "name": "stdout",
     "output_type": "stream",
     "text": [
      "1\n",
      "22\n",
      "333\n",
      "4444\n"
     ]
    }
   ],
   "source": [
    "N=input(\"Enter the number of rows: \")\n",
    "n=1\n",
    "N=int(N)\n",
    "while n<=N:\n",
    "  print(str(n)*n)\n",
    "  n+=1"
   ]
  },
  {
   "attachments": {},
   "cell_type": "markdown",
   "metadata": {},
   "source": [
    "Q.5.A"
   ]
  },
  {
   "cell_type": "code",
   "execution_count": 85,
   "metadata": {},
   "outputs": [
    {
     "name": "stdout",
     "output_type": "stream",
     "text": [
      "The number is not a palindrome\n"
     ]
    }
   ],
   "source": [
    "num=int(input(\"Enter a number: \"))\n",
    "n=num\n",
    "rev_num=0\n",
    "while n>0:\n",
    "  digit=n%10\n",
    "  rev_num=rev_num*10 +digit\n",
    "  n=n//10\n",
    "if num==rev_num:\n",
    "  print(\"The number is a palindrome\")\n",
    "else:\n",
    "  print(\"The number is not a palindrome\")\n"
   ]
  },
  {
   "attachments": {},
   "cell_type": "markdown",
   "metadata": {},
   "source": [
    "Q.5.B"
   ]
  },
  {
   "cell_type": "code",
   "execution_count": 86,
   "metadata": {},
   "outputs": [
    {
     "name": "stdout",
     "output_type": "stream",
     "text": [
      "The string is a palindrome\n"
     ]
    }
   ],
   "source": [
    "str=input(\"Enter the string to be checked: \")\n",
    "new_str=''\n",
    "old_str=str.lower()\n",
    "for a in old_str:\n",
    "  if a.isalpha():\n",
    "    new_str=new_str+a\n",
    "rev_str=new_str[::-1]\n",
    "if rev_str==new_str:\n",
    "  print(\"The string is a palindrome\")\n",
    "else:\n",
    "  print(\"The string is not a palindrome\")\n",
    "\n",
    "\n"
   ]
  },
  {
   "attachments": {},
   "cell_type": "markdown",
   "metadata": {},
   "source": [
    "Q.6.\n"
   ]
  },
  {
   "attachments": {},
   "cell_type": "markdown",
   "metadata": {},
   "source": [
    "chr() function :\n",
    " chr() function takes integer argument and return the string representing a character at that code point.\n",
    "\n",
    "\n"
   ]
  },
  {
   "attachments": {},
   "cell_type": "markdown",
   "metadata": {},
   "source": [
    "ord() function: \n",
    "The ord() function returns the number representing the unicode code of a specified character"
   ]
  },
  {
   "cell_type": "code",
   "execution_count": 87,
   "metadata": {},
   "outputs": [
    {
     "name": "stdout",
     "output_type": "stream",
     "text": [
      "A \n",
      "B B \n",
      "C C C \n",
      "D D D D \n",
      "E E E E E \n"
     ]
    }
   ],
   "source": [
    "#print(ord('A'),ord('B'),ord('C'),ord('D'))\n",
    "N=input(\"Enter the number of rows: \")\n",
    "n=1+(ord('A')-1)\n",
    "N=int(N)\n",
    "N=N+(ord('A')-1)\n",
    "while n<=N:\n",
    "  print(f\"{chr(n)} \"*(n-((ord('A')-1))))\n",
    "  n+=1\n",
    "  \n",
    "\n"
   ]
  },
  {
   "attachments": {},
   "cell_type": "markdown",
   "metadata": {},
   "source": [
    "Q.7.Write a program to perform the following tasks: (a) Create a list of airline\n",
    "tickets, each containing the name of the passenger, ticket number, departure\n",
    "date, and flight distance. (b) Insert a new ticket into the list while maintaining\n",
    "alphabetical order of passenger names. (c) Search for a specific passenger by\n",
    "name and remove their ticket information from the list. (d) Add a new ticket to\n",
    "the beginning of the list with inputted passenger information. (e) Detect and\n",
    "eliminate duplicate tickets, keeping only one instance of each. (f) Sort the entire\n",
    "list of tickets in alphabetical order by passenger name."
   ]
  },
  {
   "attachments": {},
   "cell_type": "markdown",
   "metadata": {},
   "source": [
    "(a) Create a list of airline\n",
    "tickets, each containing the name of the passenger, ticket number, departure\n",
    "date, and flight distance."
   ]
  },
  {
   "cell_type": "code",
   "execution_count": 88,
   "metadata": {},
   "outputs": [
    {
     "name": "stdout",
     "output_type": "stream",
     "text": [
      "[['pranav', 'B', '1/2/23', 300], ['shobhith', 'A', '1/1/23', 200], ['shobhith', 'A', '1/1/23', 200], ['tejus', 'C', '1/3/23', 490]]\n"
     ]
    }
   ],
   "source": [
    "airline=[['shobhith','A','1/1/23',200],['pranav','B','1/2/23',300],['tejus','C','1/3/23',490],['shobhith','A','1/1/23',200]]\n",
    "airline.sort()\n",
    "\n",
    "print(airline)\n"
   ]
  },
  {
   "attachments": {},
   "cell_type": "markdown",
   "metadata": {},
   "source": [
    "(b) Insert a new ticket into the list while maintaining\n",
    "alphabetical order of passenger names."
   ]
  },
  {
   "cell_type": "code",
   "execution_count": 89,
   "metadata": {},
   "outputs": [
    {
     "name": "stdout",
     "output_type": "stream",
     "text": [
      "[['fred', '12', '12/12/12', 300.0], ['pranav', 'B', '1/2/23', 300], ['shobhith', 'A', '1/1/23', 200], ['shobhith', 'A', '1/1/23', 200], ['tejus', 'C', '1/3/23', 490]]\n"
     ]
    }
   ],
   "source": [
    "\n",
    "a,b,c,d=input(\"Name|ticket no.|date|flight distance\").split()\n",
    "d=float(d)\n",
    "details=[a,b,c,d]\n",
    "j=0\n",
    "for i in airline:\n",
    "  if a<i[0]:\n",
    "    airline.insert(j,details)\n",
    "    break\n",
    "  j+=1\n",
    "else:\n",
    "  airline.append(details)\n",
    "print(airline)\n"
   ]
  },
  {
   "attachments": {},
   "cell_type": "markdown",
   "metadata": {},
   "source": [
    "(c) Search for a specific passenger by\n",
    "name and remove their ticket information from the list."
   ]
  },
  {
   "cell_type": "code",
   "execution_count": 90,
   "metadata": {},
   "outputs": [
    {
     "name": "stdout",
     "output_type": "stream",
     "text": [
      "[['fred', '12', '12/12/12', 300.0], ['shobhith', 'A', '1/1/23', 200], ['shobhith', 'A', '1/1/23', 200], ['tejus', 'C', '1/3/23', 490]]\n"
     ]
    }
   ],
   "source": [
    "\n",
    "name=input(\"Enter name :\")\n",
    "j=0\n",
    "for i in airline:\n",
    "  if name==i[0]:\n",
    "    airline.pop(j)\n",
    "  j+=1\n",
    "print(airline)\n"
   ]
  },
  {
   "attachments": {},
   "cell_type": "markdown",
   "metadata": {},
   "source": [
    "(d) Add a new ticket to\n",
    "the beginning of the list with inputted passenger information."
   ]
  },
  {
   "cell_type": "code",
   "execution_count": 91,
   "metadata": {},
   "outputs": [
    {
     "name": "stdout",
     "output_type": "stream",
     "text": [
      "[['pop', '34', '12/2/2', 400.0], ['fred', '12', '12/12/12', 300.0], ['shobhith', 'A', '1/1/23', 200], ['shobhith', 'A', '1/1/23', 200], ['tejus', 'C', '1/3/23', 490]]\n"
     ]
    }
   ],
   "source": [
    "\n",
    "a,b,c,d=input(\"Name|ticket no.|date|flight distance\").split()\n",
    "d=float(d)\n",
    "details=[a,b,c,d]\n",
    "airline.insert(0,details)\n",
    "print(airline)\n"
   ]
  },
  {
   "attachments": {},
   "cell_type": "markdown",
   "metadata": {},
   "source": [
    "(e) Detect and\n",
    "eliminate duplicate tickets, keeping only one instance of each."
   ]
  },
  {
   "cell_type": "code",
   "execution_count": 92,
   "metadata": {},
   "outputs": [
    {
     "name": "stdout",
     "output_type": "stream",
     "text": [
      "[['pop', '34', '12/2/2', 400.0], ['fred', '12', '12/12/12', 300.0], ['shobhith', 'A', '1/1/23', 200], ['tejus', 'C', '1/3/23', 490]]\n"
     ]
    }
   ],
   "source": [
    "\n",
    "j=0\n",
    "for i in airline:\n",
    "  if (i  in airline[:j]) or (i in airline[(j+1):len(airline)]):\n",
    "    airline.pop(j+1)\n",
    "  j=j+1\n",
    "print(airline)\n",
    "\n",
    "\n"
   ]
  },
  {
   "attachments": {},
   "cell_type": "markdown",
   "metadata": {},
   "source": [
    "(f) Sort the entire\n",
    "list of tickets in alphabetical order by passenger name."
   ]
  },
  {
   "cell_type": "code",
   "execution_count": 93,
   "metadata": {},
   "outputs": [
    {
     "name": "stdout",
     "output_type": "stream",
     "text": [
      "[['fred', '12', '12/12/12', 300.0], ['pop', '34', '12/2/2', 400.0], ['shobhith', 'A', '1/1/23', 200], ['tejus', 'C', '1/3/23', 490]]\n"
     ]
    }
   ],
   "source": [
    "airline.sort()\n",
    "print(airline)"
   ]
  },
  {
   "attachments": {},
   "cell_type": "markdown",
   "metadata": {},
   "source": [
    "Q.8.a"
   ]
  },
  {
   "cell_type": "code",
   "execution_count": 94,
   "metadata": {},
   "outputs": [
    {
     "name": "stdout",
     "output_type": "stream",
     "text": [
      "a= [4, 8, 8, 8, 5]\n",
      "b=  [2, 2, 7, 1, 2]\n",
      "c= a+b= [6, 10, 15, 9, 7]\n"
     ]
    }
   ],
   "source": [
    "import random\n",
    "a=[]\n",
    "b=[]\n",
    "length=random.randint(3,8)\n",
    "for x in range(length):\n",
    "  a.append(random.randint(1,10))\n",
    "  b.append(random.randint(1,10))\n",
    "c=[a[i]+b[i] for i in range(len(a))]\n",
    "print(\"a=\",a)\n",
    "print('b= ',b)\n",
    "print('c= a+b=' ,c)"
   ]
  },
  {
   "attachments": {},
   "cell_type": "markdown",
   "metadata": {},
   "source": [
    "Q.8.b"
   ]
  },
  {
   "cell_type": "code",
   "execution_count": 95,
   "metadata": {},
   "outputs": [
    {
     "name": "stdout",
     "output_type": "stream",
     "text": [
      "d= a*b=  [8, 16, 56, 8, 10]\n"
     ]
    }
   ],
   "source": [
    "d=[a[i]*b[i] for i in range (len(a))]\n",
    "print(\"d= a*b= \",d)"
   ]
  },
  {
   "attachments": {},
   "cell_type": "markdown",
   "metadata": {},
   "source": [
    "Q.8.c"
   ]
  },
  {
   "cell_type": "code",
   "execution_count": 96,
   "metadata": {},
   "outputs": [
    {
     "name": "stdout",
     "output_type": "stream",
     "text": [
      "['b', 'a', 'n', 'k', 'i', 'j', 'u']\n"
     ]
    }
   ],
   "source": [
    "str2=input(\"Enter a string \")\n",
    "\n",
    "unique=[str2[i] for i in range(len(str2)) if str2[i] not in str2[:i]]\n",
    "print(unique)"
   ]
  },
  {
   "attachments": {},
   "cell_type": "markdown",
   "metadata": {},
   "source": [
    "Q.9.a"
   ]
  },
  {
   "cell_type": "code",
   "execution_count": 97,
   "metadata": {},
   "outputs": [
    {
     "name": "stdout",
     "output_type": "stream",
     "text": [
      "[[6, 8], [10, 12]]\n"
     ]
    }
   ],
   "source": [
    "matrix1=[[1,2],[3,4]]\n",
    "matrix2=[[5,6],[7,8]]\n",
    "matrix_add=[]\n",
    "for i in range(len(matrix1)):\n",
    "  matrix_add.append([])\n",
    "  for j in range (len(matrix1)):\n",
    "    matrix_add[i].append(matrix1[i][j]+matrix2[i][j])\n",
    "print(matrix_add)\n"
   ]
  },
  {
   "attachments": {},
   "cell_type": "markdown",
   "metadata": {},
   "source": [
    "Q.9.b."
   ]
  },
  {
   "cell_type": "code",
   "execution_count": 98,
   "metadata": {},
   "outputs": [
    {
     "name": "stdout",
     "output_type": "stream",
     "text": [
      "[[5, 12], [21, 32]]\n"
     ]
    }
   ],
   "source": [
    "matrix_mult=[]\n",
    "for i in range(len(matrix1)):\n",
    "  matrix_mult.append([])\n",
    "  for j in range (len(matrix2)):\n",
    "    matrix_mult[i].append(matrix1[i][j]*matrix2[i][j])\n",
    "print(matrix_mult)"
   ]
  },
  {
   "attachments": {},
   "cell_type": "markdown",
   "metadata": {},
   "source": [
    "Q.10."
   ]
  },
  {
   "cell_type": "code",
   "execution_count": 99,
   "metadata": {},
   "outputs": [
    {
     "name": "stdout",
     "output_type": "stream",
     "text": [
      "My name is Shobhith, I am 20 years old\n",
      "455\n",
      "34.77\n",
      "My name is Shobhith\n",
      "This is a string\n"
     ]
    }
   ],
   "source": [
    "print(\"My name is {}, I am {} years old\".format('Shobhith','20'))\n",
    "print(\"%d\" % 455)\n",
    "print(\"%.2f\" % 34.7664)\n",
    "print(f'My name is {\"Shobhith\"}')\n",
    "print(\"%s\"% \"This is a string\")"
   ]
  },
  {
   "attachments": {},
   "cell_type": "markdown",
   "metadata": {},
   "source": [
    "Q.11."
   ]
  },
  {
   "cell_type": "code",
   "execution_count": 100,
   "metadata": {},
   "outputs": [
    {
     "name": "stdout",
     "output_type": "stream",
     "text": [
      "largest number=  3\n"
     ]
    }
   ],
   "source": [
    "n1=int(input(\"Enter a nummber\"))\n",
    "n2=int(input(\"Enter another number\"))\n",
    "n3=int(input(\"Enter another number\"))\n",
    "if (n1>n2) and n1>n3:\n",
    "  largest=n1\n",
    "else:\n",
    "  if n2>n1 and n2>n3:\n",
    "    largest=n2\n",
    "  else:\n",
    "    largest=n3\n",
    "print(\"largest number= \",largest)\n",
    "  \n"
   ]
  }
 ],
 "metadata": {
  "kernelspec": {
   "display_name": "Python 3",
   "language": "python",
   "name": "python3"
  },
  "language_info": {
   "codemirror_mode": {
    "name": "ipython",
    "version": 3
   },
   "file_extension": ".py",
   "mimetype": "text/x-python",
   "name": "python",
   "nbconvert_exporter": "python",
   "pygments_lexer": "ipython3",
   "version": "3.10.9"
  },
  "orig_nbformat": 4,
  "vscode": {
   "interpreter": {
    "hash": "6c42dcb1f60df280cc8e2d8bf4d26a2cb3e7b90fe71f3777a869d2af160b2d0e"
   }
  }
 },
 "nbformat": 4,
 "nbformat_minor": 2
}
