{
 "cells": [
  {
   "attachments": {},
   "cell_type": "markdown",
   "metadata": {},
   "source": [
    "LAB 1- 20/01/2023\n",
    "ED21B069 Shobhith vadlamudi"
   ]
  },
  {
   "attachments": {},
   "cell_type": "markdown",
   "metadata": {},
   "source": [
    "Q1.a."
   ]
  },
  {
   "cell_type": "code",
   "execution_count": 4,
   "metadata": {},
   "outputs": [
    {
     "name": "stdout",
     "output_type": "stream",
     "text": [
      "32.2660653870387\n"
     ]
    }
   ],
   "source": [
    "import math\n",
    "l=7*(math.log(5)+(math.log(math.e**3)))\n",
    "print(l)\n"
   ]
  },
  {
   "attachments": {},
   "cell_type": "markdown",
   "metadata": {},
   "source": [
    "Q1.b."
   ]
  },
  {
   "cell_type": "code",
   "execution_count": 5,
   "metadata": {},
   "outputs": [
    {
     "name": "stdout",
     "output_type": "stream",
     "text": [
      "0.15470053837925168\n"
     ]
    }
   ],
   "source": [
    "a=math.sin(math.pi/3)\n",
    "b=math.cos((math.pi)*3)\n",
    "c=1/a+1/b\n",
    "print(c)\n"
   ]
  },
  {
   "attachments": {},
   "cell_type": "markdown",
   "metadata": {},
   "source": [
    "Q.2"
   ]
  },
  {
   "cell_type": "code",
   "execution_count": 6,
   "metadata": {},
   "outputs": [
    {
     "name": "stdout",
     "output_type": "stream",
     "text": [
      "23\n"
     ]
    }
   ],
   "source": [
    "diff=50-5\n",
    "a=diff//2\n",
    "ans=a+1\n",
    "print(ans)"
   ]
  },
  {
   "attachments": {},
   "cell_type": "markdown",
   "metadata": {},
   "source": [
    "Q.3."
   ]
  },
  {
   "cell_type": "code",
   "execution_count": 7,
   "metadata": {},
   "outputs": [
    {
     "name": "stdout",
     "output_type": "stream",
     "text": [
      "truncating 100.496= 100\n",
      "floor of 100.496= 100\n",
      "ceil of 100.496= 101\n",
      "round of 100.496= 100\n",
      "\n",
      "\n",
      "truncating 100.59= 100\n",
      "floor of 100.59= 100\n",
      "ceil of 100.59= 101\n",
      "round of 100.59= 101\n",
      "\n",
      "\n",
      "truncating -100.496= -100\n",
      "floor of -100.496= -101\n",
      "ceil of -100.496= -100\n",
      "round of -100.496= -100\n",
      "\n",
      "\n",
      "truncating -6.5= -6\n",
      "floor of -6.5= -7\n",
      "ceil of -6.5= -6\n",
      "round of -6.5= -6\n",
      "\n",
      "\n",
      "truncating 4.25= 4\n",
      "floor of 4.25= 4\n",
      "ceil of 4.25= 5\n",
      "round of 4.25= 4\n",
      "\n",
      "\n",
      "truncating 8.5= 8\n",
      "floor of 8.5= 8\n",
      "ceil of 8.5= 9\n",
      "round of 8.5= 8\n",
      "\n",
      "\n",
      "truncating 9= 9\n",
      "floor of 9= 9\n",
      "ceil of 9= 9\n",
      "round of 9= 9\n",
      "\n",
      "\n"
     ]
    }
   ],
   "source": [
    "a=100.496\n",
    "print(\"truncating 100.496=\",math.trunc(a))\n",
    "print(\"floor of 100.496=\",math.floor(a))\n",
    "print(\"ceil of 100.496=\",math.ceil(a))\n",
    "print(\"round of 100.496=\",round(a))\n",
    "print(\"\\n\")\n",
    "b=100.59\n",
    "print(\"truncating 100.59=\",math.trunc(b))\n",
    "print(\"floor of 100.59=\",math.floor(b))\n",
    "print(\"ceil of 100.59=\",math.ceil(b))\n",
    "print(\"round of 100.59=\",round(b))\n",
    "print(\"\\n\")\n",
    "c=-100.496\n",
    "print(\"truncating -100.496=\",math.trunc(c))\n",
    "print(\"floor of -100.496=\",math.floor(c))\n",
    "print(\"ceil of -100.496=\",math.ceil(c))\n",
    "print(\"round of -100.496=\",round(c))\n",
    "print(\"\\n\")\n",
    "d=-6.5\n",
    "print(\"truncating -6.5=\",math.trunc(d))\n",
    "print(\"floor of -6.5=\",math.floor(d))\n",
    "print(\"ceil of -6.5=\",math.ceil(d))\n",
    "print(\"round of -6.5=\",round(d))\n",
    "print(\"\\n\")\n",
    "e=4.25\n",
    "print(\"truncating 4.25=\",math.trunc(e))\n",
    "print(\"floor of 4.25=\",math.floor(e))\n",
    "print(\"ceil of 4.25=\",math.ceil(e))\n",
    "print(\"round of 4.25=\",round(e))\n",
    "print(\"\\n\")\n",
    "f=8.5\n",
    "print(\"truncating 8.5=\",math.trunc(f))\n",
    "print(\"floor of 8.5=\",math.floor(f))\n",
    "print(\"ceil of 8.5=\",math.ceil(f))\n",
    "print(\"round of 8.5=\",round(f))\n",
    "print(\"\\n\")\n",
    "g=9\n",
    "print(\"truncating 9=\",math.trunc(g))\n",
    "print(\"floor of 9=\",math.floor(g))\n",
    "print(\"ceil of 9=\",math.ceil(g))\n",
    "print(\"round of 9=\",round(g))\n",
    "print(\"\\n\")\n"
   ]
  },
  {
   "attachments": {},
   "cell_type": "markdown",
   "metadata": {},
   "source": [
    "Q.4."
   ]
  },
  {
   "cell_type": "code",
   "execution_count": 8,
   "metadata": {},
   "outputs": [
    {
     "name": "stdout",
     "output_type": "stream",
     "text": [
      "20\n",
      "24\n",
      "11\n",
      "51\n",
      "30\n",
      "35\n",
      "14\n",
      "10\n",
      "9\n",
      "6\n",
      "avg of the 10 random numbers is 21.0\n"
     ]
    }
   ],
   "source": [
    "import random\n",
    "s=input(\"Enter a value for seed \")\n",
    "s=int(s)\n",
    "random.seed(s)\n",
    "a1=random.randint(5,55)\n",
    "print(a1)\n",
    "a2=random.randint(5,55)\n",
    "print(a2)\n",
    "a3=random.randint(5,55)\n",
    "print(a3)\n",
    "a4=random.randint(5,55)\n",
    "print(a4)\n",
    "a5=random.randint(5,55)\n",
    "print(a5)\n",
    "a6=random.randint(5,55)\n",
    "print(a6)\n",
    "a7=random.randint(5,55)\n",
    "print(a7)\n",
    "a8=random.randint(5,55)\n",
    "print(a8)\n",
    "a9=random.randint(5,55)\n",
    "print(a9)\n",
    "a10=random.randint(5,55)\n",
    "print(a10)\n",
    "avg=(a1+a2+a3+a4+a5+a6+a7+a8+a9+a10)/10\n",
    "print(\"avg of the 10 random numbers is\",avg)"
   ]
  },
  {
   "attachments": {},
   "cell_type": "markdown",
   "metadata": {},
   "source": [
    "Q.5."
   ]
  },
  {
   "cell_type": "code",
   "execution_count": 9,
   "metadata": {},
   "outputs": [
    {
     "name": "stdout",
     "output_type": "stream",
     "text": [
      "The given quadratic equation is ax^2+bx+c=0\n",
      "\n",
      "one solution is  (-1+0j)\n",
      "Another solution is  (-1+0j)\n"
     ]
    }
   ],
   "source": [
    "print(\"The given quadratic equation is ax^2+bx+c=0\\n\")\n",
    "a=input(\"Enter value for a \")\n",
    "a=float(a)\n",
    "b=input(\"Enter value for b \")\n",
    "b=float(b)\n",
    "c=input(\"Enter value for c \")\n",
    "c=float(c)\n",
    "dis=b**2-4*a*c\n",
    "import cmath\n",
    "print(\"one solution is \",(-b+cmath.sqrt(dis))/(2*a))\n",
    "print(\"Another solution is \",(-b-cmath.sqrt(dis))/(2*a))\n"
   ]
  },
  {
   "attachments": {},
   "cell_type": "markdown",
   "metadata": {},
   "source": [
    "Q.6."
   ]
  },
  {
   "cell_type": "code",
   "execution_count": 10,
   "metadata": {},
   "outputs": [
    {
     "name": "stdout",
     "output_type": "stream",
     "text": [
      "H\n",
      "PYT\n",
      "N\n",
      "NOHTYP\n"
     ]
    }
   ],
   "source": [
    "word=\"PYTHON\"\n",
    "print(word[3])\n",
    "print(word[:3])\n",
    "print(word[5])\n",
    "print(word[::-1])"
   ]
  },
  {
   "attachments": {},
   "cell_type": "markdown",
   "metadata": {},
   "source": [
    "Q.7."
   ]
  },
  {
   "cell_type": "code",
   "execution_count": 11,
   "metadata": {},
   "outputs": [
    {
     "name": "stdout",
     "output_type": "stream",
     "text": [
      "a- Learning python is fun\n",
      "b- LEARNING PYTHON IS FUN\n",
      "c- Fun is python learning\n",
      "d- nuf si nohtyp gninrael\n"
     ]
    }
   ],
   "source": [
    "w1=\"Learning\"\n",
    "w2='python'\n",
    "w3='is'\n",
    "w4='fun'\n",
    "print(\"a-\",w1+' '+w2+' '+w3+' '+w4)\n",
    "print('b-',w1.upper()+' '+w2.upper()+' '+w3.upper()+' '+w4.upper())\n",
    "print('c-',w4.capitalize()+' '+w3+' '+w2+' '+w1.lower())\n",
    "print('d-',w4[::-1]+' '+w3[::-1]+' '+w2[::-1]+' '+w1.lower()[::-1])"
   ]
  },
  {
   "attachments": {},
   "cell_type": "markdown",
   "metadata": {},
   "source": [
    "Q.8.\n",
    "The standard data types in python are int,float,complex,bool,string,double.\n",
    "\n"
   ]
  },
  {
   "cell_type": "code",
   "execution_count": 12,
   "metadata": {},
   "outputs": [
    {
     "name": "stdout",
     "output_type": "stream",
     "text": [
      "<class 'int'>\n",
      "size= 28\n",
      "\n",
      "\n",
      "<class 'str'>\n",
      "size= 55\n",
      "\n",
      "\n",
      "<class 'float'>\n",
      "size= 24\n",
      "\n",
      "\n",
      "<class 'complex'>\n",
      "size= 32\n",
      "\n",
      "\n",
      "<class 'bool'>\n",
      "size= 28\n",
      "\n",
      "\n",
      "The ascending order based on the example used is float<bool=int<complex<string \n",
      "Python uses dynamic typing\n"
     ]
    }
   ],
   "source": [
    "a=12\n",
    "import sys\n",
    "print(type(a))\n",
    "print(\"size=\",sys.getsizeof(a))\n",
    "print(\"\\n\")\n",
    "b='string'\n",
    "print(type(b))\n",
    "print(\"size=\",sys.getsizeof(b))\n",
    "print(\"\\n\")\n",
    "c=12.03\n",
    "print(type(c))\n",
    "print(\"size=\",sys.getsizeof(c))\n",
    "print(\"\\n\")\n",
    "d=12+3j\n",
    "print(type(d))\n",
    "print(\"size=\",sys.getsizeof(d))\n",
    "print(\"\\n\")\n",
    "e=(10>9)\n",
    "print(type(e))\n",
    "print(\"size=\",sys.getsizeof(e))\n",
    "print(\"\\n\")\n",
    "print('The ascending order based on the example used is float<bool=int<complex<string ')\n",
    "print(\"Python uses dynamic typing\")"
   ]
  },
  {
   "attachments": {},
   "cell_type": "markdown",
   "metadata": {},
   "source": [
    "Q.9."
   ]
  },
  {
   "cell_type": "code",
   "execution_count": 13,
   "metadata": {},
   "outputs": [
    {
     "name": "stdout",
     "output_type": "stream",
     "text": [
      "a+b= 8.0\n",
      "a-b= 2.0\n",
      "a/b= 1.6666666666666667\n",
      "remainder of a/b= 2.0\n",
      "quotient of a/b= 1.0\n",
      "a^b= 125.0\n",
      "a*b= 15.0\n"
     ]
    }
   ],
   "source": [
    "a,b= input(\"Enter 2 numbers a&b \").split()\n",
    "a=float(a)\n",
    "b=float(b)\n",
    "print(\"a+b=\",a+b)\n",
    "print(\"a-b=\",a-b)\n",
    "print(\"a/b=\",a/b)\n",
    "print(\"remainder of a/b=\",a%b)\n",
    "print(\"quotient of a/b=\",a//b)\n",
    "print(\"a^b=\",a**b)\n",
    "print(\"a*b=\",a*b)"
   ]
  },
  {
   "attachments": {},
   "cell_type": "markdown",
   "metadata": {},
   "source": [
    "Q.10.\n",
    "5 built in functions in python are \n",
    "1. input() This function allows us to get user input and stores it as a string\n",
    "2. type() This function returns the type of the object.\n",
    "3. min() This function returns the smallest item in an iterable\n",
    "4. max() This function returns the largest item in an iterable\n",
    "\n",
    "5.int() This function returns an integer number.\n"
   ]
  },
  {
   "attachments": {},
   "cell_type": "markdown",
   "metadata": {},
   "source": [
    "Q.11.\n",
    "A pointer variable points to a variable whose memory location is stored in it, but in referencing the reference variable is an alias for a variable which is assigned to it so for example"
   ]
  },
  {
   "cell_type": "code",
   "execution_count": 14,
   "metadata": {},
   "outputs": [
    {
     "name": "stdout",
     "output_type": "stream",
     "text": [
      "2073198222576\n",
      "2073198222576\n"
     ]
    }
   ],
   "source": [
    "str1=\"kite\"\n",
    "str2=\"kite\"\n",
    "print(id(str1))\n",
    "print(id(str2))"
   ]
  },
  {
   "attachments": {},
   "cell_type": "markdown",
   "metadata": {},
   "source": [
    "Since both variables stored the same string kite they point to the same reference id. But if you used pointers the memory location would be different for each variable.\n",
    "Python uses referencing"
   ]
  }
 ],
 "metadata": {
  "kernelspec": {
   "display_name": "Python 3",
   "language": "python",
   "name": "python3"
  },
  "language_info": {
   "codemirror_mode": {
    "name": "ipython",
    "version": 3
   },
   "file_extension": ".py",
   "mimetype": "text/x-python",
   "name": "python",
   "nbconvert_exporter": "python",
   "pygments_lexer": "ipython3",
   "version": "3.10.9 (tags/v3.10.9:1dd9be6, Dec  6 2022, 20:01:21) [MSC v.1934 64 bit (AMD64)]"
  },
  "orig_nbformat": 4,
  "vscode": {
   "interpreter": {
    "hash": "6c42dcb1f60df280cc8e2d8bf4d26a2cb3e7b90fe71f3777a869d2af160b2d0e"
   }
  }
 },
 "nbformat": 4,
 "nbformat_minor": 2
}
