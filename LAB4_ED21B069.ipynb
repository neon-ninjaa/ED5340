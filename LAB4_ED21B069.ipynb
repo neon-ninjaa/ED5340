{
 "cells": [
  {
   "attachments": {},
   "cell_type": "markdown",
   "metadata": {},
   "source": [
    "# LAB 4 Shobhith Vadlamudi ED21B069"
   ]
  },
  {
   "attachments": {},
   "cell_type": "markdown",
   "metadata": {},
   "source": [
    "1. Given a list of integers, write a Python program to:\n",
    "\n",
    "a) Find the frequency of each integer in the list and store the result in a dictionary."
   ]
  },
  {
   "cell_type": "code",
   "execution_count": 43,
   "metadata": {},
   "outputs": [
    {
     "name": "stdout",
     "output_type": "stream",
     "text": [
      "{1: 4, 2: 3, 5: 1, 3: 3, 7: 1, 8: 2, 9: 2, 4: 2, 6: 1}\n"
     ]
    }
   ],
   "source": [
    "integ=[1,1,1,1,2,5,3,2,7,8,9,4,4,3,2,6,8,9,3]\n",
    "dict1={}\n",
    "for x in integ:\n",
    "    if x in dict1:\n",
    "        dict1[x]+=1\n",
    "    else:\n",
    "        dict1[x]=1\n",
    "print(dict1)\n"
   ]
  },
  {
   "attachments": {},
   "cell_type": "markdown",
   "metadata": {},
   "source": [
    "b) Print the maximum integer and its frequency."
   ]
  },
  {
   "cell_type": "code",
   "execution_count": 44,
   "metadata": {},
   "outputs": [
    {
     "name": "stdout",
     "output_type": "stream",
     "text": [
      "9 2\n"
     ]
    }
   ],
   "source": [
    "maxi=max(integ)\n",
    "frequency=integ.count(maxi)\n",
    "print(maxi,frequency)"
   ]
  },
  {
   "attachments": {},
   "cell_type": "markdown",
   "metadata": {},
   "source": [
    "c) Remove duplicates from the list and print the new list without changing the order of elements. Do this operation without using the set data type."
   ]
  },
  {
   "cell_type": "code",
   "execution_count": 45,
   "metadata": {},
   "outputs": [
    {
     "name": "stdout",
     "output_type": "stream",
     "text": [
      "[1, 2, 5, 3, 7, 8, 9, 4, 6]\n"
     ]
    }
   ],
   "source": [
    "lst1=[]\n",
    "no_duplicates=[lst1.append(x) for x in integ if x not in lst1]\n",
    "print(lst1)"
   ]
  },
  {
   "attachments": {},
   "cell_type": "markdown",
   "metadata": {},
   "source": [
    "d) Remove duplicates from the list and print the new list without changing the order of elements. Do this operation using the set data type."
   ]
  },
  {
   "cell_type": "code",
   "execution_count": 46,
   "metadata": {},
   "outputs": [
    {
     "name": "stdout",
     "output_type": "stream",
     "text": [
      "[1, 2, 3, 4, 5, 6, 7, 8, 9]\n"
     ]
    }
   ],
   "source": [
    "empty=set()\n",
    "for x in integ:\n",
    "  empty.add(x)\n",
    "print(list(empty))\n"
   ]
  },
  {
   "attachments": {},
   "cell_type": "markdown",
   "metadata": {},
   "source": [
    "2. Store the employee IDs, names, salaries, and years of experience using nested dictionaries (the key of the highest level dictionary can be the employee ID). "
   ]
  },
  {
   "cell_type": "code",
   "execution_count": 47,
   "metadata": {},
   "outputs": [],
   "source": [
    "employee_details={1:{\"name\":\"ram\",\"salary\":100,\"years of experience\":2},2:{\"name\":\"raghu\",\"salary\":1000,\"years of experience\":3},3:{\"name\":\"shobhith\",\"salary\":10000,\"years of experience\":2},4:{\"name\":\"vamsi\",\"salary\":500,\"years of experience\":1}}"
   ]
  },
  {
   "attachments": {},
   "cell_type": "markdown",
   "metadata": {},
   "source": [
    "a) Sort this dictionary using the salary value. "
   ]
  },
  {
   "cell_type": "code",
   "execution_count": 48,
   "metadata": {},
   "outputs": [
    {
     "name": "stdout",
     "output_type": "stream",
     "text": [
      "{1: {'name': 'ram', 'salary': 100, 'years of experience': 2}, 4: {'name': 'vamsi', 'salary': 500, 'years of experience': 1}, 2: {'name': 'raghu', 'salary': 1000, 'years of experience': 3}, 3: {'name': 'shobhith', 'salary': 10000, 'years of experience': 2}}\n"
     ]
    }
   ],
   "source": [
    "salary_sort= dict(sorted(employee_details.items(), key= lambda ele:ele[1][\"salary\"]))\n",
    "print(salary_sort)"
   ]
  },
  {
   "attachments": {},
   "cell_type": "markdown",
   "metadata": {},
   "source": [
    "b) Add a new employee to the dictionary in the correct position (sorted as mentioned above)."
   ]
  },
  {
   "cell_type": "code",
   "execution_count": 49,
   "metadata": {},
   "outputs": [
    {
     "name": "stdout",
     "output_type": "stream",
     "text": [
      "{1: {'name': 'ram', 'salary': 100, 'years of experience': 2}, 4: {'name': 'vamsi', 'salary': 500, 'years of experience': 1}, 5: {'name': 'rahul', 'salary': 750, 'years of experience': 1.5}, 2: {'name': 'raghu', 'salary': 1000, 'years of experience': 3}, 3: {'name': 'shobhith', 'salary': 10000, 'years of experience': 2}}\n"
     ]
    }
   ],
   "source": [
    "new_emp={5:{\"name\":\"rahul\",\"salary\":750,\"years of experience\":1.5}}\n",
    "salary_sort.update(new_emp)\n",
    "salary_sorted= dict(sorted(salary_sort.items(), key= lambda ele:ele[1][\"salary\"]))\n",
    "\n",
    "print(salary_sorted)"
   ]
  },
  {
   "attachments": {},
   "cell_type": "markdown",
   "metadata": {},
   "source": [
    "3. You are given two Python dictionaries, A and B, with keys as alphabets and values as random integers. Write a Python function to create a third dictionary C, that combines A and B. For common keys, the value in C should be the sum of values from A and B. "
   ]
  },
  {
   "cell_type": "code",
   "execution_count": 50,
   "metadata": {},
   "outputs": [
    {
     "name": "stdout",
     "output_type": "stream",
     "text": [
      "{'a': 3, 'b': 2, 'c': 7, 'd': 4, 'e': 11, 'g': 8, 'i': 10}\n"
     ]
    }
   ],
   "source": [
    "A={'a':1,'b':2,'c':3,'d':4,'e':5}\n",
    "B={'a':2,'c':4,'e':6,'g':8,'i':10}\n",
    "def combine_dict(A,B):\n",
    "    C={}\n",
    "    C.update(A)\n",
    "    l1=list(B.keys())\n",
    "    for x in l1:\n",
    "        if x in C:\n",
    "            C[x]+=B[x]\n",
    "        else:\n",
    "            C[x]=B[x]\n",
    "    print(C)\n",
    "  \n",
    "        \n",
    "combine_dict(A,B)\n",
    "\n"
   ]
  },
  {
   "attachments": {},
   "cell_type": "markdown",
   "metadata": {},
   "source": [
    "4. Assume you have a list of lists, where each inner list contains two elements: a key and a value. Write a Python function that takes the list of lists as input and returns a list of dictionaries, where each dictionary contains a key-value pair from the original input list."
   ]
  },
  {
   "cell_type": "code",
   "execution_count": 51,
   "metadata": {},
   "outputs": [
    {
     "data": {
      "text/plain": [
       "[{'a': 2}, {'b': 3}, {'c': 4}]"
      ]
     },
     "execution_count": 51,
     "metadata": {},
     "output_type": "execute_result"
    }
   ],
   "source": [
    "lstolst=[['a',2],['b',3],['c',4]]\n",
    "def dc(lis):\n",
    "  list2=[]\n",
    "  for x in lis:\n",
    "      list2.append({x[0]:x[1]})\n",
    "  return (list2)\n",
    "dc(lstolst) "
   ]
  },
  {
   "attachments": {},
   "cell_type": "markdown",
   "metadata": {},
   "source": [
    "5.  Write a function to check whether all the members in the list are anagrams of each other. "
   ]
  },
  {
   "cell_type": "code",
   "execution_count": 52,
   "metadata": {},
   "outputs": [
    {
     "name": "stdout",
     "output_type": "stream",
     "text": [
      "true\n"
     ]
    }
   ],
   "source": [
    "list4= [\"triangle\", \"integral\", \"altering\"]\n",
    "def func2(list3):\n",
    "  lis3=[]\n",
    "  for x in list3:\n",
    "      dict3={}\n",
    "      for y in x:\n",
    "          if y in dict3:\n",
    "            dict3[y]+=1\n",
    "          else:\n",
    "            dict3[y]=1\n",
    "      lis3.append(dict3)\n",
    "  for x in lis3:\n",
    "     if x==lis3[0]:\n",
    "        continue\n",
    "     else:\n",
    "        return False\n",
    "        \n",
    "\n",
    "  print(\"true\")\n",
    "func2(list4)"
   ]
  },
  {
   "attachments": {},
   "cell_type": "markdown",
   "metadata": {},
   "source": [
    "6. Write a Python function that calculates the square of a given number. Then, take a list of numbers and use the map() function to apply the square function to each list element. Print the resulting list of numbers and their squares in the form of a dictionary where each key is a number from the original list, and its corresponding value is its square."
   ]
  },
  {
   "cell_type": "code",
   "execution_count": 53,
   "metadata": {},
   "outputs": [
    {
     "name": "stdout",
     "output_type": "stream",
     "text": [
      "{1: 1, 2: 4, 3: 9, 4: 16, 5: 25, 6: 36, 7: 49, 8: 64}\n"
     ]
    }
   ],
   "source": [
    "def square(n):\n",
    "    sq=n*n\n",
    "    return sq\n",
    "lis5=[1,2,3,4,5,6,7,8]\n",
    "res=map(square,lis5)\n",
    "lis_res=list(res)\n",
    "final_dict={k:v for (k,v) in zip(lis5,lis_res)}\n",
    "print(final_dict)"
   ]
  },
  {
   "attachments": {},
   "cell_type": "markdown",
   "metadata": {},
   "source": [
    "7. Write a function that takes an integer input from the user and prints Pascal’s Triangle."
   ]
  },
  {
   "cell_type": "code",
   "execution_count": 54,
   "metadata": {},
   "outputs": [
    {
     "name": "stdout",
     "output_type": "stream",
     "text": [
      "1\n",
      "1 1\n",
      "1 2 1\n",
      "1 3 3 1\n"
     ]
    },
    {
     "data": {
      "text/plain": [
       "[1, 3, 3, 1]"
      ]
     },
     "execution_count": 54,
     "metadata": {},
     "output_type": "execute_result"
    }
   ],
   "source": [
    "def pascal(n):\n",
    "    if n == 1:\n",
    "        print(1)\n",
    "        return [1]\n",
    "    else:\n",
    "        answer = [1]\n",
    "        print_able = '1 '\n",
    "        prev = pascal(n-1)\n",
    "        for i in range(len(prev)-1):\n",
    "            ele = prev[i]+prev[i+1]\n",
    "            answer.append(ele)\n",
    "            print_able += str(ele)+' '\n",
    "        answer.append(1)\n",
    "        print_able += '1'\n",
    "        print(print_able)\n",
    "        return answer\n",
    "\n",
    "\n",
    "num = int(input(\"Enter the number of rows\"))\n",
    "pascal(num)\n",
    "        \n",
    "    \n",
    "  "
   ]
  },
  {
   "attachments": {},
   "cell_type": "markdown",
   "metadata": {},
   "source": [
    "8. Write a function:\n",
    "\n",
    "     That takes a user input (integer, say n) and prints n Fibonacci numbers, using recursion and without recursion.\n",
    "\n",
    "Also, check if the number n is present in the Fibonacci series."
   ]
  },
  {
   "cell_type": "code",
   "execution_count": 55,
   "metadata": {},
   "outputs": [
    {
     "name": "stdout",
     "output_type": "stream",
     "text": [
      "0 1 1 2 3\n"
     ]
    }
   ],
   "source": [
    "# Using recursion\n",
    "def fibonacci(n):\n",
    "    if n<=1:\n",
    "        return n\n",
    "    else:\n",
    "        return (fibonacci(n-1)+fibonacci(n-2))\n",
    "    \n",
    "num=int(input(\"Enter a positive integer: \"))\n",
    "ls5=[]\n",
    "for i in range(num):\n",
    "    ls5.append(fibonacci(i))\n",
    "print(*ls5)\n",
    "if num in ls5:\n",
    "  print(\"n is part of the series\")\n"
   ]
  },
  {
   "cell_type": "code",
   "execution_count": 56,
   "metadata": {},
   "outputs": [
    {
     "name": "stdout",
     "output_type": "stream",
     "text": [
      "0 1 1 2\n"
     ]
    }
   ],
   "source": [
    "#without recursion\n",
    "def fib(n):\n",
    "    a = 0\n",
    "    b = 1\n",
    "    if n < 0:\n",
    "        print(\"Incorrect input\")\n",
    "    elif n==0:\n",
    "      return 0\n",
    "    elif n==1:\n",
    "       return b\n",
    "    else:\n",
    "       for i in range(1,n):\n",
    "          c=a+b\n",
    "          a=b\n",
    "          b=c\n",
    "    return b\n",
    "num=int(input(\"Enter a positive integer: \"))\n",
    "ls5=[]\n",
    "for i in range(num):\n",
    "    ls5.append(fibonacci(i))\n",
    "print(*ls5)\n",
    "if num in ls5:\n",
    "  print(\"n is part of the series\")"
   ]
  },
  {
   "attachments": {},
   "cell_type": "markdown",
   "metadata": {},
   "source": [
    "9. Write a program:\n",
    "\n",
    "         a) To filter the even numbers from a list of integers using lambda."
   ]
  },
  {
   "cell_type": "code",
   "execution_count": 57,
   "metadata": {},
   "outputs": [
    {
     "name": "stdout",
     "output_type": "stream",
     "text": [
      "[2, 4, 6, 8, 10, 12]\n",
      "[1, 3, 5, 7, 9, 11]\n"
     ]
    }
   ],
   "source": [
    "lis6=[1,2,3,4,5,6,7,8,9,10,11,12]\n",
    "f=lambda x:x%2==0\n",
    "# keeping only the even numbers\n",
    "print(list(filter(f, lis6)))\n",
    " #filtering out the even numbers\n",
    "g=lambda x:(x%2!=0)\n",
    "print(list(filter(g,lis6)))\n"
   ]
  },
  {
   "attachments": {},
   "cell_type": "markdown",
   "metadata": {},
   "source": [
    "b) To count even and odd numbers in a given list of integers using lambda."
   ]
  },
  {
   "cell_type": "code",
   "execution_count": 58,
   "metadata": {},
   "outputs": [
    {
     "name": "stdout",
     "output_type": "stream",
     "text": [
      "The number of even integers are 6 and the number of odd integers are 6\n"
     ]
    }
   ],
   "source": [
    "f1=lambda x:x%2\n",
    "even=list(map(f1,lis6)).count(0)\n",
    "odd=list(map(f1,lis6)).count(1)\n",
    "print(\"The number of even integers are {} and the number of odd integers are {}\".format(even,odd))\n"
   ]
  },
  {
   "attachments": {},
   "cell_type": "markdown",
   "metadata": {},
   "source": [
    "c) To sort a list of dictionaries using lambda."
   ]
  },
  {
   "cell_type": "code",
   "execution_count": 59,
   "metadata": {},
   "outputs": [
    {
     "name": "stdout",
     "output_type": "stream",
     "text": [
      "[{'E': 1}, {'H': 1}, {'M': 1}, {'W': 1}]\n"
     ]
    }
   ],
   "source": [
    "dictlst1=[{\"W\":1},{\"H\":1},{\"E\":1},{\"M\":1}]\n",
    "dict_sort=lambda a: [dict(j) for j in sorted([list(i.items()) for i in a])]\n",
    "#sorting based on the first key of each dictionary\n",
    "print(dict_sort(dictlst1))"
   ]
  },
  {
   "attachments": {},
   "cell_type": "markdown",
   "metadata": {},
   "source": [
    "10. Query for two integers N and M from the user where 0<=N<=100 and 0<=M<=9. These will be the inputs to your function. Using recursion, compute the number of times the integer M occurs in all non-negative integers less than or equal to N. "
   ]
  },
  {
   "cell_type": "code",
   "execution_count": 60,
   "metadata": {},
   "outputs": [
    {
     "name": "stdout",
     "output_type": "stream",
     "text": [
      "6\n"
     ]
    }
   ],
   "source": [
    "N=int(input(\"Enter a number between 0 and 100\"))\n",
    "M=int(input(\"Enter a number between 0 and 9\"))\n",
    "def count(M,N):\n",
    "    if 0<=N<=100 and 0<=M<=9:\n",
    "      if str(M) in str(N):\n",
    "        occ=str(N).count(str(M))\n",
    "        return occ+ count(M,N-1)\n",
    "      else:\n",
    "         return count(M,N-1)\n",
    "    if N==-1:\n",
    "        return 0\n",
    "number=count(M,N)\n",
    "print(number)"
   ]
  },
  {
   "attachments": {},
   "cell_type": "markdown",
   "metadata": {},
   "source": [
    "11. Illustrate the usage of positional and keyword arguments using suitable examples."
   ]
  },
  {
   "cell_type": "code",
   "execution_count": null,
   "metadata": {},
   "outputs": [],
   "source": [
    "# using keyword arguments\n",
    "def pos_fun(i,f,st):\n",
    "    su=i+f\n",
    "    return(su,st)\n",
    "print(pos_fun(i=4,st='ram',f=55.4)) # order doesn't matter when using keyword arguments\n",
    "print(pos_fun(1,f=4.4,st='ram')) # When you use keyword arguments in a function call you identify the arguments by the parameter name\n",
    "print(pos_fun(1,st='ram',f=23.5))\n",
    "#using positional arguments\n",
    "def func(int,f,str):\n",
    "    return(int+f,str)\n",
    "func(3,3.4,'ram') # here the order matters\n",
    "# When you use positional arguments the arguments are passed in the order of parameters. The order defined in the order function declaration."
   ]
  },
  {
   "attachments": {},
   "cell_type": "markdown",
   "metadata": {},
   "source": [
    "12. Write a function to find the minimum of n numbers using variable length positional arguments."
   ]
  },
  {
   "cell_type": "code",
   "execution_count": 62,
   "metadata": {},
   "outputs": [
    {
     "data": {
      "text/plain": [
       "4"
      ]
     },
     "execution_count": 62,
     "metadata": {},
     "output_type": "execute_result"
    }
   ],
   "source": [
    "def min(*n):\n",
    "    min=n[0]\n",
    "    for x in n:\n",
    "      if x<min:\n",
    "         min=x\n",
    "    return min\n",
    "min(9,24,30,4,5,6)"
   ]
  },
  {
   "attachments": {},
   "cell_type": "markdown",
   "metadata": {},
   "source": [
    "13. Write a function to concatenate n strings using variable length keyword arguments."
   ]
  },
  {
   "cell_type": "code",
   "execution_count": 61,
   "metadata": {},
   "outputs": [
    {
     "data": {
      "text/plain": [
       "'bareabcd'"
      ]
     },
     "execution_count": 61,
     "metadata": {},
     "output_type": "execute_result"
    }
   ],
   "source": [
    "def concat(**strings):\n",
    "    concat_string=''\n",
    "    for key,value in strings.items():\n",
    "       concat_string=concat_string+value\n",
    "    return concat_string\n",
    "concat(st1='ba',st2='re',st3='abcd')"
   ]
  },
  {
   "attachments": {},
   "cell_type": "markdown",
   "metadata": {},
   "source": [
    "14. Describe filter () and reduce () functions with suitable examples."
   ]
  },
  {
   "cell_type": "code",
   "execution_count": 63,
   "metadata": {},
   "outputs": [
    {
     "name": "stdout",
     "output_type": "stream",
     "text": [
      "[44, 54, 23, 67, 45]\n"
     ]
    }
   ],
   "source": [
    "#Filter function takes the syntax filter(function,iterable).\n",
    "#It returns a iterator where the items are filtered through a function to test if the item is accepted or not.\n",
    "ages=[1,2,44,54,23,67,45]\n",
    "def old(x):\n",
    "    if x>20:\n",
    "      return True\n",
    "    else:\n",
    "       return False\n",
    "old1=list(filter(old,ages))\n",
    "print(old1)\n",
    "# we can see that the ages > 20 are filtered through and show up.\n",
    "\n"
   ]
  },
  {
   "cell_type": "code",
   "execution_count": 64,
   "metadata": {},
   "outputs": [
    {
     "name": "stdout",
     "output_type": "stream",
     "text": [
      "365\n"
     ]
    }
   ],
   "source": [
    "# reduce function allows us to reduce a list to a single value. It takes the syntax reduce(function,list)\n",
    "#The reduce() function applies the function of two arguments cumulatively to the items of the list, from left to right, to reduce the list into a single value.\n",
    "from functools import reduce\n",
    "\n",
    "scores = [75, 65, 80, 95, 50]\n",
    "total = reduce(lambda a, b: a + b, scores)\n",
    "\n",
    "print(total)\n",
    "# Here the reduce function cumulatively adds two elements of the list from left to right and reduces the whole list into a single value."
   ]
  }
 ],
 "metadata": {
  "kernelspec": {
   "display_name": "Python 3",
   "language": "python",
   "name": "python3"
  },
  "language_info": {
   "codemirror_mode": {
    "name": "ipython",
    "version": 3
   },
   "file_extension": ".py",
   "mimetype": "text/x-python",
   "name": "python",
   "nbconvert_exporter": "python",
   "pygments_lexer": "ipython3",
   "version": "3.10.10"
  },
  "orig_nbformat": 4,
  "vscode": {
   "interpreter": {
    "hash": "6c42dcb1f60df280cc8e2d8bf4d26a2cb3e7b90fe71f3777a869d2af160b2d0e"
   }
  }
 },
 "nbformat": 4,
 "nbformat_minor": 2
}
