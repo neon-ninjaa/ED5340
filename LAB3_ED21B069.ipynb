{
 "cells": [
  {
   "attachments": {},
   "cell_type": "markdown",
   "metadata": {},
   "source": [
    "Q.1.   Find out the applicable methods for the list but not tuples. List them out."
   ]
  },
  {
   "attachments": {},
   "cell_type": "markdown",
   "metadata": {},
   "source": [
    "The applicable methods for list but not tuples are .append(), insert(), remove(), pop(), clear(), sort(), and reverse()"
   ]
  },
  {
   "cell_type": "code",
   "execution_count": null,
   "metadata": {},
   "outputs": [],
   "source": [
    "lst3=[1,2,3,4,5,6]\n",
    "lst3.append(7) #adds element at end\n",
    "print(lst3)\n",
    "lst3.insert(2,33) #inserts element at given index\n",
    "print(lst3)\n",
    "lst3.remove(2) #removes first instance of the element\n",
    "print(lst3)\n",
    "lst3.pop(2) #removes element at given index\n",
    "print(lst3)\n",
    "lst3.sort()#sorts the given list\n",
    "print(lst3)\n",
    "lst3.reverse() #reverses the list\n",
    "print(lst3)\n",
    "lst3.clear() #clears all the elements of the list\n",
    "print(lst3)\n",
    "#tuples are immutable whereas lists are mutable therefore these methods are not valid for tuples"
   ]
  },
  {
   "attachments": {},
   "cell_type": "markdown",
   "metadata": {},
   "source": [
    "Q.2. Write a code snippet in Python that takes a string as input and returns a tuple of tuples. Each inner tuple should contain a character from the input string and its corresponding ASCII value."
   ]
  },
  {
   "cell_type": "code",
   "execution_count": 2,
   "metadata": {},
   "outputs": [
    {
     "name": "stdout",
     "output_type": "stream",
     "text": [
      "(('H', 72), ('e', 101), ('l', 108), ('l', 108), ('o', 111))\n"
     ]
    }
   ],
   "source": [
    "input_string=input(\"Enter a string here\")\n",
    "lst1=[]\n",
    "for x in input_string:\n",
    "  tup2=(x,ord(x))\n",
    "  lst1.append(tup2)\n",
    "output_tuple=tuple(lst1)\n",
    "print(output_tuple)\n"
   ]
  },
  {
   "attachments": {},
   "cell_type": "markdown",
   "metadata": {},
   "source": [
    "Q.3. Create a program that takes a list of tuples containing student name and roll number and returns a new list of tuples containing only those tuples whose first element is a vowel (a, e, i, o, u, A, E, I, O, U)."
   ]
  },
  {
   "cell_type": "code",
   "execution_count": 3,
   "metadata": {},
   "outputs": [
    {
     "name": "stdout",
     "output_type": "stream",
     "text": [
      "[('Shobhith', 1), ('arun', 2), ('eesha', 3)]\n",
      "[('arun', 2), ('eesha', 3)]\n"
     ]
    }
   ],
   "source": [
    "vowels=['a','e','i','o','u','A','E','I','O','U']\n",
    "lt1=[]\n",
    "n=int(input(\"How many students details do you want to enter?\"))\n",
    "for i in range(n):\n",
    "  name=input(\"Enter name of student: \")\n",
    "  roll=int(input(\"Enter roll no. of student: \"))\n",
    "  tupA=(name,roll)\n",
    "  lt1.append(tupA)\n",
    "print(lt1)\n",
    "lt2=[]\n",
    "for ele in lt1:\n",
    "  if ele[0][0] in vowels:\n",
    "    lt2.append(ele)\n",
    "print(lt2)"
   ]
  },
  {
   "attachments": {},
   "cell_type": "markdown",
   "metadata": {},
   "source": [
    "Q.4. WAP with both ways:  \n",
    "\n",
    "       (i) Without using Zip but use list comprehension\n",
    "\n",
    "          a)    For two matrices of size 4X4 each, perform matrix addition, subtraction, trace, transpose and scalar multiplication. \n",
    "\n",
    "          b)    For a given matrix, perform row-wise operations such as row addition and column addition.\n",
    "        "
   ]
  },
  {
   "attachments": {},
   "cell_type": "markdown",
   "metadata": {},
   "source": [
    "a)"
   ]
  },
  {
   "cell_type": "code",
   "execution_count": 4,
   "metadata": {},
   "outputs": [
    {
     "name": "stdout",
     "output_type": "stream",
     "text": [
      "[[3, 2, 3, 7], [6, 8, 10, 12], [10, 19, 20, 19], [17, 17, 17, 17]]\n",
      "[[-1, 2, 3, 1], [4, 4, 4, 4], [8, 1, 2, 5], [9, 11, 13, 15]]\n",
      "34\n",
      "14\n",
      "[[1, 5, 9, 13], [2, 6, 10, 14], [3, 7, 11, 15], [4, 8, 12, 16]]\n",
      "[[2, 1, 1, 4], [0, 2, 9, 3], [0, 3, 9, 2], [3, 4, 7, 1]]\n",
      "[[3, 6, 9, 12], [15, 18, 21, 24], [27, 30, 33, 36], [39, 42, 45, 48]]\n",
      "[[4, 0, 0, 6], [2, 4, 6, 8], [2, 18, 18, 14], [8, 6, 4, 2]]\n"
     ]
    }
   ],
   "source": [
    "mat1=[[1,2,3,4],[5,6,7,8],[9,10,11,12],[13,14,15,16]]\n",
    "mat2=[[2,0,0,3],[1,2,3,4],[1,9,9,7],[4,3,2,1]]\n",
    "mat_add=[[mat1[i][j]+mat2[i][j] for j in range(len(mat1[0]))]for i in range(len(mat1))]\n",
    "print(mat_add)\n",
    "mat_subtract=[[mat1[i][j]-mat2[i][j] for j in range(len(mat1[0]))]for i in range(len(mat1))]\n",
    "print(mat_subtract)\n",
    "mat1_trace=sum([(mat1[j][j]) for j in range(len(mat1))])\n",
    "print(mat1_trace)\n",
    "mat2_trace=sum([(mat2[j][j]) for j in range(len(mat2))])\n",
    "print(mat2_trace)\n",
    "mat1_transpose=[[mat1[j][i] for j in range(len(mat1))]for i in range(len(mat1[0]))]\n",
    "print(mat1_transpose)\n",
    "mat2_transpose=[[mat2[j][i] for j in range(len(mat2))]for i in range(len(mat2[0]))]\n",
    "print(mat2_transpose)\n",
    "mat1_scaleby_3=[[mat1[i][j]*3 for j in range(len(mat1[0]))]for i in range(len(mat1))]\n",
    "print(mat1_scaleby_3)\n",
    "mat2_scaleby_2=[[mat2[i][j]*2 for j in range(len(mat2[0]))]for i in range(len(mat2))]\n",
    "print(mat2_scaleby_2)"
   ]
  },
  {
   "attachments": {},
   "cell_type": "markdown",
   "metadata": {},
   "source": [
    "b) Given mat1"
   ]
  },
  {
   "cell_type": "code",
   "execution_count": 5,
   "metadata": {},
   "outputs": [
    {
     "name": "stdout",
     "output_type": "stream",
     "text": [
      "[[10], [26], [42], [58]]\n",
      "[28, 32, 36, 40]\n"
     ]
    }
   ],
   "source": [
    "row_sum=[[sum(mat1[i])] for i in range(len(mat1))]\n",
    "print(row_sum)\n",
    "column_sum=[sum([row[i]for row in mat1]) for i in range(len(mat1[0]))]\n",
    "print(column_sum)"
   ]
  },
  {
   "attachments": {},
   "cell_type": "markdown",
   "metadata": {},
   "source": [
    "(ii) Using Zip ()\n",
    "\n",
    "           a)  For two matrices of size 4X4 each, perform matrix addition, subtraction, trace, transpose and scalar multiplication. "
   ]
  },
  {
   "cell_type": "code",
   "execution_count": 6,
   "metadata": {},
   "outputs": [
    {
     "name": "stdout",
     "output_type": "stream",
     "text": [
      "[[3, 2, 3, 7], [6, 8, 10, 12], [10, 19, 20, 19], [17, 17, 17, 17]]\n",
      "[[-1, 2, 3, 1], [4, 4, 4, 4], [8, 1, 2, 5], [9, 11, 13, 15]]\n",
      "[[(1, 5, 9, 13)], [(2, 6, 10, 14)], [(3, 7, 11, 15)], [(4, 8, 12, 16)]]\n",
      "[[(2, 1, 1, 4)], [(0, 2, 9, 3)], [(0, 3, 9, 2)], [(3, 4, 7, 1)]]\n"
     ]
    }
   ],
   "source": [
    "mat1=[[1,2,3,4],[5,6,7,8],[9,10,11,12],[13,14,15,16]]\n",
    "mat2=[[2,0,0,3],[1,2,3,4],[1,9,9,7],[4,3,2,1]]\n",
    "mat_Add=[[sum(ite) for ite in zip(*it)]for it in zip(mat1,mat2)]\n",
    "print(mat_Add)\n",
    "mat_Subtract=[[ite[0]-ite[1] for ite in zip(*it)]for it in zip(mat1,mat2)]\n",
    "print(mat_Subtract)\n",
    "mat1_Transpose=[[ite] for ite in zip(*mat1)]\n",
    "print(mat1_Transpose)\n",
    "mat2_Transpose=[[ite] for ite in zip(*mat2)]\n",
    "print(mat2_Transpose)\n"
   ]
  },
  {
   "attachments": {},
   "cell_type": "markdown",
   "metadata": {},
   "source": [
    "Q.5. Given a list of numbers, write a Python program to create a set `S` from the list and perform the following operations on the set:\n",
    "\n",
    "a)    Add an element to the set `S`\n",
    "\n",
    "b)    Remove an element from the set `S`\n",
    "\n",
    "c)     Discard an element from the set `S`\n",
    "\n",
    "d)    Clear all elements from the set `S`"
   ]
  },
  {
   "cell_type": "code",
   "execution_count": 8,
   "metadata": {},
   "outputs": [
    {
     "name": "stdout",
     "output_type": "stream",
     "text": [
      "[1, 2, 3, 4, 5, 6, 7, 8, 9, 10]\n",
      "{1, 2, 3, 4, 5, 6, 7, 8, 9, 10}\n",
      "{1, 2, 3, 4, 5, 6, 7, 8, 9, 10, 11}\n",
      "{1, 2, 4, 5, 6, 7, 8, 9, 10, 11}\n",
      "{1, 2, 4, 5, 6, 7, 8, 10, 11}\n",
      "{1, 2, 4, 5, 6, 7, 8, 10, 11}\n",
      "set()\n"
     ]
    }
   ],
   "source": [
    "lst2=[x for x in range(1,11)]\n",
    "print(lst2)\n",
    "S=set(lst2)\n",
    "print(S)\n",
    "#adding an element to S\n",
    "S.add(11)\n",
    "print(S)\n",
    "#removing an element from S\n",
    "S.remove(3)\n",
    "print(S)\n",
    "#discarding an element from S\n",
    "S.discard(9)\n",
    "print(S)\n",
    "#if the element to be deleted isn't in the set then the discard function does nothing but if you use remove it gives an error\n",
    "S.discard(13)\n",
    "print(S)\n",
    "#Clearing all elements from S\n",
    "S.clear()\n",
    "print(S)\n"
   ]
  },
  {
   "attachments": {},
   "cell_type": "markdown",
   "metadata": {},
   "source": [
    "Q.6. What is a frozenset()? Give examples."
   ]
  },
  {
   "attachments": {},
   "cell_type": "markdown",
   "metadata": {},
   "source": [
    "Sets in python are mutable. To create a immmutable version of a set in python we use frozenset(). The syntax of frozenset is frozenset([iterable]). The iterable can be set,tuple,dictionary,etc.\n"
   ]
  },
  {
   "cell_type": "code",
   "execution_count": 11,
   "metadata": {},
   "outputs": [
    {
     "name": "stdout",
     "output_type": "stream",
     "text": [
      "{1, 2, 3, 4, 5, 12}\n",
      "{1, 3, 4, 5, 12}\n"
     ]
    }
   ],
   "source": [
    "setA={1,2,3,4,5}\n",
    "setA.add(12)\n",
    "print(setA)\n",
    "setA.remove(2)\n",
    "print(setA)\n",
    "#sets are mutable"
   ]
  },
  {
   "cell_type": "code",
   "execution_count": 10,
   "metadata": {},
   "outputs": [
    {
     "ename": "AttributeError",
     "evalue": "'frozenset' object has no attribute 'add'",
     "output_type": "error",
     "traceback": [
      "\u001b[1;31m---------------------------------------------------------------------------\u001b[0m",
      "\u001b[1;31mAttributeError\u001b[0m                            Traceback (most recent call last)",
      "Cell \u001b[1;32mIn[10], line 3\u001b[0m\n\u001b[0;32m      1\u001b[0m setB\u001b[39m=\u001b[39m{\u001b[39m1\u001b[39m,\u001b[39m2\u001b[39m,\u001b[39m3\u001b[39m,\u001b[39m4\u001b[39m,\u001b[39m5\u001b[39m}\n\u001b[0;32m      2\u001b[0m setC\u001b[39m=\u001b[39m\u001b[39mfrozenset\u001b[39m(setB)\n\u001b[1;32m----> 3\u001b[0m setC\u001b[39m.\u001b[39;49madd(\u001b[39m22\u001b[39m)\n\u001b[0;32m      4\u001b[0m \u001b[39mprint\u001b[39m(setC)\n\u001b[0;32m      5\u001b[0m \u001b[39m#We get an error as frozensets are immutable(can't be changed) so frozenset has no attribute 'add'.\u001b[39;00m\n",
      "\u001b[1;31mAttributeError\u001b[0m: 'frozenset' object has no attribute 'add'"
     ]
    }
   ],
   "source": [
    "setB={1,2,3,4,5}\n",
    "setC=frozenset(setB)\n",
    "setC.add(22)\n",
    "print(setC)\n",
    "#We get an error as frozensets are immutable(can't be changed) so frozenset has no attribute 'add'."
   ]
  },
  {
   "attachments": {},
   "cell_type": "markdown",
   "metadata": {},
   "source": [
    "Q.7. Set comprehension: Create a set of all the even numbers between 1 and 10 using set comprehensions."
   ]
  },
  {
   "cell_type": "code",
   "execution_count": 9,
   "metadata": {},
   "outputs": [
    {
     "name": "stdout",
     "output_type": "stream",
     "text": [
      "{2, 4, 6, 8, 10}\n"
     ]
    }
   ],
   "source": [
    "set_even={x for x in range(1,11) if x%2==0}\n",
    "print(set_even)"
   ]
  }
 ],
 "metadata": {
  "kernelspec": {
   "display_name": "Python 3",
   "language": "python",
   "name": "python3"
  },
  "language_info": {
   "codemirror_mode": {
    "name": "ipython",
    "version": 3
   },
   "file_extension": ".py",
   "mimetype": "text/x-python",
   "name": "python",
   "nbconvert_exporter": "python",
   "pygments_lexer": "ipython3",
   "version": "3.10.10"
  },
  "orig_nbformat": 4,
  "vscode": {
   "interpreter": {
    "hash": "6c42dcb1f60df280cc8e2d8bf4d26a2cb3e7b90fe71f3777a869d2af160b2d0e"
   }
  }
 },
 "nbformat": 4,
 "nbformat_minor": 2
}
